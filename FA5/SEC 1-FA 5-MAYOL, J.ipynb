{
 "cells": [
  {
   "cell_type": "markdown",
   "id": "64d7eadb-5ffe-4291-8fee-00da52c57cab",
   "metadata": {},
   "source": [
    "# I. Introduction"
   ]
  },
  {
   "cell_type": "markdown",
   "id": "07766492-bc82-41d7-872b-9acc6d1bc0b1",
   "metadata": {},
   "source": [
    "## Objective\n",
    "\n",
    "The study aims to predict whether a certain passenger onboard the Titanic would survive the disaster using their age, sex, passenger class, number of relatives onboard, and embarkment dock. Logistic regression was the instrument used to construct this particular predictive model.\n",
    "\n",
    "## Dataset Description\n",
    "\n",
    "The 'titanic' dataset from seaborn is a list of Titanic passengers alongside some of their important demographic data. It consists of 891 entries and 15 columns."
   ]
  },
  {
   "cell_type": "markdown",
   "id": "352477e9-2f4f-4022-a811-3d00db5ecdec",
   "metadata": {},
   "source": [
    "# II. Data Preprocessing Steps"
   ]
  },
  {
   "cell_type": "markdown",
   "id": "60c2a055-ad42-4eff-97ab-bf8d5fd17b0d",
   "metadata": {},
   "source": [
    "To begin, load the 'titanic' dataset from seaborn."
   ]
  },
  {
   "cell_type": "code",
   "execution_count": 30,
   "id": "a47a58c1-787f-46d2-924c-68d310501fef",
   "metadata": {},
   "outputs": [
    {
     "data": {
      "text/html": [
       "<div>\n",
       "<style scoped>\n",
       "    .dataframe tbody tr th:only-of-type {\n",
       "        vertical-align: middle;\n",
       "    }\n",
       "\n",
       "    .dataframe tbody tr th {\n",
       "        vertical-align: top;\n",
       "    }\n",
       "\n",
       "    .dataframe thead th {\n",
       "        text-align: right;\n",
       "    }\n",
       "</style>\n",
       "<table border=\"1\" class=\"dataframe\">\n",
       "  <thead>\n",
       "    <tr style=\"text-align: right;\">\n",
       "      <th></th>\n",
       "      <th>survived</th>\n",
       "      <th>pclass</th>\n",
       "      <th>sex</th>\n",
       "      <th>age</th>\n",
       "      <th>sibsp</th>\n",
       "      <th>parch</th>\n",
       "      <th>fare</th>\n",
       "      <th>embarked</th>\n",
       "      <th>class</th>\n",
       "      <th>who</th>\n",
       "      <th>adult_male</th>\n",
       "      <th>deck</th>\n",
       "      <th>embark_town</th>\n",
       "      <th>alive</th>\n",
       "      <th>alone</th>\n",
       "    </tr>\n",
       "  </thead>\n",
       "  <tbody>\n",
       "    <tr>\n",
       "      <th>0</th>\n",
       "      <td>0</td>\n",
       "      <td>3</td>\n",
       "      <td>male</td>\n",
       "      <td>22.0</td>\n",
       "      <td>1</td>\n",
       "      <td>0</td>\n",
       "      <td>7.2500</td>\n",
       "      <td>S</td>\n",
       "      <td>Third</td>\n",
       "      <td>man</td>\n",
       "      <td>True</td>\n",
       "      <td>NaN</td>\n",
       "      <td>Southampton</td>\n",
       "      <td>no</td>\n",
       "      <td>False</td>\n",
       "    </tr>\n",
       "    <tr>\n",
       "      <th>1</th>\n",
       "      <td>1</td>\n",
       "      <td>1</td>\n",
       "      <td>female</td>\n",
       "      <td>38.0</td>\n",
       "      <td>1</td>\n",
       "      <td>0</td>\n",
       "      <td>71.2833</td>\n",
       "      <td>C</td>\n",
       "      <td>First</td>\n",
       "      <td>woman</td>\n",
       "      <td>False</td>\n",
       "      <td>C</td>\n",
       "      <td>Cherbourg</td>\n",
       "      <td>yes</td>\n",
       "      <td>False</td>\n",
       "    </tr>\n",
       "    <tr>\n",
       "      <th>2</th>\n",
       "      <td>1</td>\n",
       "      <td>3</td>\n",
       "      <td>female</td>\n",
       "      <td>26.0</td>\n",
       "      <td>0</td>\n",
       "      <td>0</td>\n",
       "      <td>7.9250</td>\n",
       "      <td>S</td>\n",
       "      <td>Third</td>\n",
       "      <td>woman</td>\n",
       "      <td>False</td>\n",
       "      <td>NaN</td>\n",
       "      <td>Southampton</td>\n",
       "      <td>yes</td>\n",
       "      <td>True</td>\n",
       "    </tr>\n",
       "    <tr>\n",
       "      <th>3</th>\n",
       "      <td>1</td>\n",
       "      <td>1</td>\n",
       "      <td>female</td>\n",
       "      <td>35.0</td>\n",
       "      <td>1</td>\n",
       "      <td>0</td>\n",
       "      <td>53.1000</td>\n",
       "      <td>S</td>\n",
       "      <td>First</td>\n",
       "      <td>woman</td>\n",
       "      <td>False</td>\n",
       "      <td>C</td>\n",
       "      <td>Southampton</td>\n",
       "      <td>yes</td>\n",
       "      <td>False</td>\n",
       "    </tr>\n",
       "    <tr>\n",
       "      <th>4</th>\n",
       "      <td>0</td>\n",
       "      <td>3</td>\n",
       "      <td>male</td>\n",
       "      <td>35.0</td>\n",
       "      <td>0</td>\n",
       "      <td>0</td>\n",
       "      <td>8.0500</td>\n",
       "      <td>S</td>\n",
       "      <td>Third</td>\n",
       "      <td>man</td>\n",
       "      <td>True</td>\n",
       "      <td>NaN</td>\n",
       "      <td>Southampton</td>\n",
       "      <td>no</td>\n",
       "      <td>True</td>\n",
       "    </tr>\n",
       "  </tbody>\n",
       "</table>\n",
       "</div>"
      ],
      "text/plain": [
       "   survived  pclass     sex   age  sibsp  parch     fare embarked  class  \\\n",
       "0         0       3    male  22.0      1      0   7.2500        S  Third   \n",
       "1         1       1  female  38.0      1      0  71.2833        C  First   \n",
       "2         1       3  female  26.0      0      0   7.9250        S  Third   \n",
       "3         1       1  female  35.0      1      0  53.1000        S  First   \n",
       "4         0       3    male  35.0      0      0   8.0500        S  Third   \n",
       "\n",
       "     who  adult_male deck  embark_town alive  alone  \n",
       "0    man        True  NaN  Southampton    no  False  \n",
       "1  woman       False    C    Cherbourg   yes  False  \n",
       "2  woman       False  NaN  Southampton   yes   True  \n",
       "3  woman       False    C  Southampton   yes  False  \n",
       "4    man        True  NaN  Southampton    no   True  "
      ]
     },
     "execution_count": 30,
     "metadata": {},
     "output_type": "execute_result"
    }
   ],
   "source": [
    "import seaborn as sns\n",
    "df = sns.load_dataset('titanic')\n",
    "df.head()"
   ]
  },
  {
   "cell_type": "markdown",
   "id": "5a848642-082f-4f86-af25-ce7341eac966",
   "metadata": {},
   "source": [
    "## Exploratory Data Analysis"
   ]
  },
  {
   "cell_type": "markdown",
   "id": "4f11b014-5e66-42b5-937b-d9a773994e58",
   "metadata": {},
   "source": [
    "#### Unnecessary Columns - embark_town, class, who, adult_male, deck, alive, alone\n",
    "\n",
    "These columns are repetitive with other variables that are already pre-existing."
   ]
  },
  {
   "cell_type": "code",
   "execution_count": 31,
   "id": "643889c8-a91c-4d17-aa8d-4a077e90aa9d",
   "metadata": {},
   "outputs": [],
   "source": [
    "df_copy = df.copy()\n",
    "df_copy.drop(['embark_town', 'class', 'who', 'adult_male', 'deck', 'alive', 'alone'], axis=1, inplace=True)"
   ]
  },
  {
   "cell_type": "markdown",
   "id": "c02fb8dd-1bad-4070-998e-97a959699828",
   "metadata": {},
   "source": [
    "#### Unnecessary Columns - fare\n",
    "\n",
    "Notice how 'fare' is practically already described by the 'pclass' variable. In fact, the 'pclass' variable should be a more reliable indicator for survival rate since aside from giving an idea of the fare price, it also properly groups the passengers according to where they were positioned inside the Titanic. In practice, 'fare' functions more as a noise in this dataset. Any substantial correlation will only be attributed to the variable being practically the same as the 'pclass' column."
   ]
  },
  {
   "cell_type": "code",
   "execution_count": 32,
   "id": "9c6739f4-0547-4a56-80ac-06676e1ee1c0",
   "metadata": {},
   "outputs": [],
   "source": [
    "df_copy.drop(['fare'], axis=1, inplace=True)"
   ]
  },
  {
   "cell_type": "markdown",
   "id": "a90d0151-55b7-4a23-bf00-2b34742201f2",
   "metadata": {},
   "source": [
    "#### Missing - Age"
   ]
  },
  {
   "cell_type": "code",
   "execution_count": 33,
   "id": "0bf662cb-ac57-4654-8b48-0e58d6ba60fa",
   "metadata": {},
   "outputs": [
    {
     "data": {
      "text/plain": [
       "survived      0\n",
       "pclass        0\n",
       "sex           0\n",
       "age         177\n",
       "sibsp         0\n",
       "parch         0\n",
       "embarked      2\n",
       "dtype: int64"
      ]
     },
     "execution_count": 33,
     "metadata": {},
     "output_type": "execute_result"
    }
   ],
   "source": [
    "df_copy.isnull().sum()"
   ]
  },
  {
   "cell_type": "markdown",
   "id": "ec289dd4-df24-4ebe-8120-6e35f3222a16",
   "metadata": {},
   "source": [
    "Notice how there are missing entries in the 'age' and 'embarked' columns. We can explore their behaviors to think of strategies on how to address them."
   ]
  },
  {
   "cell_type": "code",
   "execution_count": 34,
   "id": "2396ad4e-4ee7-4aa1-b6e5-6628558ffc44",
   "metadata": {},
   "outputs": [],
   "source": [
    "import pandas as pd\n",
    "from IPython.display import display"
   ]
  },
  {
   "cell_type": "code",
   "execution_count": 35,
   "id": "bd44a8c0-cc74-486a-b6f2-7b0ba12275d8",
   "metadata": {},
   "outputs": [
    {
     "data": {
      "text/html": [
       "<style type=\"text/css\">\n",
       "</style>\n",
       "<table id=\"T_23aca\">\n",
       "  <thead>\n",
       "    <tr>\n",
       "      <th id=\"T_23aca_level0_col0\" class=\"col_heading level0 col0\" >Statistic</th>\n",
       "      <th id=\"T_23aca_level0_col1\" class=\"col_heading level0 col1\" >Value</th>\n",
       "    </tr>\n",
       "  </thead>\n",
       "  <tbody>\n",
       "    <tr>\n",
       "      <td id=\"T_23aca_row0_col0\" class=\"data row0 col0\" >Portion with Missing 'age' Records</td>\n",
       "      <td id=\"T_23aca_row0_col1\" class=\"data row0 col1\" >19.87%</td>\n",
       "    </tr>\n",
       "  </tbody>\n",
       "</table>\n"
      ],
      "text/plain": [
       "<pandas.io.formats.style.Styler at 0x23c256080d0>"
      ]
     },
     "metadata": {},
     "output_type": "display_data"
    }
   ],
   "source": [
    "df1 = {\n",
    "  \"Statistic\": [\"Portion with Missing 'age' Records\"],\n",
    "  \"Value\": ['%.2f%%' %((df_copy['age'].isnull().sum()/df_copy.shape[0])*100)]\n",
    "}\n",
    "df1 = pd.DataFrame(df1)\n",
    "display(df1.style.hide(axis=\"index\"))"
   ]
  },
  {
   "cell_type": "markdown",
   "id": "ddb25117-4a63-4b8b-a65e-7acd7c8e10bb",
   "metadata": {},
   "source": [
    "There is about 20% of the 'age' column that is missing. We can take a look at a histogram of 'age' and observe how the data is distributed."
   ]
  },
  {
   "cell_type": "code",
   "execution_count": 36,
   "id": "0fa24963-d4ee-4556-bb61-84cd34dae5eb",
   "metadata": {},
   "outputs": [],
   "source": [
    "import matplotlib.pyplot as plt\n",
    "import numpy as np"
   ]
  },
  {
   "cell_type": "code",
   "execution_count": 37,
   "id": "0142d47d-124c-4eca-b4eb-0e4877ca182a",
   "metadata": {},
   "outputs": [
    {
     "data": {
      "image/png": "[encoded data removed]",
      "text/plain": [
       "<Figure size 640x480 with 1 Axes>"
      ]
     },
     "metadata": {},
     "output_type": "display_data"
    }
   ],
   "source": [
    "sns.histplot(df_copy['age'], bins=30, kde=True, color='red', edgecolor='purple')\n",
    "plt.xlabel('Age')\n",
    "plt.ylabel('Frequency')\n",
    "plt.title('Histogram for Age')\n",
    "plt.show()"
   ]
  },
  {
   "cell_type": "markdown",
   "id": "8c23739e-7648-4b3d-bada-05dcb5018284",
   "metadata": {},
   "source": [
    "Since the distribution has a right skew, we must look at the relationship between the response variable 'survived' and the other predictors. This helps us think of a strategy on how to impute the missing data without disturbing the existing trends in the graph."
   ]
  },
  {
   "cell_type": "code",
   "execution_count": 38,
   "id": "202e3de8-611c-419f-a0bc-0f6a9bff5628",
   "metadata": {},
   "outputs": [
    {
     "data": {
      "text/html": [
       "<div>\n",
       "<style scoped>\n",
       "    .dataframe tbody tr th:only-of-type {\n",
       "        vertical-align: middle;\n",
       "    }\n",
       "\n",
       "    .dataframe tbody tr th {\n",
       "        vertical-align: top;\n",
       "    }\n",
       "\n",
       "    .dataframe thead th {\n",
       "        text-align: right;\n",
       "    }\n",
       "</style>\n",
       "<table border=\"1\" class=\"dataframe\">\n",
       "  <thead>\n",
       "    <tr style=\"text-align: right;\">\n",
       "      <th></th>\n",
       "      <th>survived</th>\n",
       "    </tr>\n",
       "  </thead>\n",
       "  <tbody>\n",
       "    <tr>\n",
       "      <th>survived</th>\n",
       "      <td>1.000000</td>\n",
       "    </tr>\n",
       "    <tr>\n",
       "      <th>pclass</th>\n",
       "      <td>0.338481</td>\n",
       "    </tr>\n",
       "    <tr>\n",
       "      <th>age</th>\n",
       "      <td>0.077221</td>\n",
       "    </tr>\n",
       "    <tr>\n",
       "      <th>sibsp</th>\n",
       "      <td>0.035322</td>\n",
       "    </tr>\n",
       "    <tr>\n",
       "      <th>parch</th>\n",
       "      <td>0.081629</td>\n",
       "    </tr>\n",
       "  </tbody>\n",
       "</table>\n",
       "</div>"
      ],
      "text/plain": [
       "          survived\n",
       "survived  1.000000\n",
       "pclass    0.338481\n",
       "age       0.077221\n",
       "sibsp     0.035322\n",
       "parch     0.081629"
      ]
     },
     "execution_count": 38,
     "metadata": {},
     "output_type": "execute_result"
    }
   ],
   "source": [
    "df_copy_num_col = df_copy.select_dtypes(exclude=['object']).columns\n",
    "df_copy_num = df_copy[df_copy_num_col]\n",
    "correlation = abs(pd.DataFrame(df_copy_num.corr().survived))\n",
    "correlation"
   ]
  },
  {
   "cell_type": "markdown",
   "id": "f232582d-4f14-4f69-9c09-f8af92029f6c",
   "metadata": {},
   "source": [
    "Based on the correlations given in the table, only 'pclass' and 'fare' have substantial correlations with 'survived.' Among these, 'pclass' has the most substantial effect. Hence, we can group the 'age' column by 'pclass', take their median values, and impute them accordingly to the missing entries."
   ]
  },
  {
   "cell_type": "code",
   "execution_count": 39,
   "id": "5de99f77-fb04-4700-b71a-fb599882da4d",
   "metadata": {},
   "outputs": [
    {
     "data": {
      "image/png": "[encoded data removed]",
      "text/plain": [
       "<Figure size 640x480 with 1 Axes>"
      ]
     },
     "metadata": {},
     "output_type": "display_data"
    },
    {
     "data": {
      "text/plain": [
       "<Figure size 1000x1000 with 0 Axes>"
      ]
     },
     "metadata": {},
     "output_type": "display_data"
    }
   ],
   "source": [
    "fig, ax = plt.subplots()\n",
    "plt.figure(figsize=(10, 10))\n",
    "sns.boxplot(x='pclass',y='age',data=df_copy,hue='pclass',palette='Set3',ax=ax)\n",
    "\n",
    "medians = df.groupby('pclass')['age'].median()\n",
    "\n",
    "for i, median_value in enumerate(medians):\n",
    "    x_position = i\n",
    "    y_position = median_value\n",
    "    ax.text(x_position, y_position, f'Median: {median_value:.1f}', ha='center', va='bottom', color='black')\n",
    "\n",
    "plt.show()"
   ]
  },
  {
   "cell_type": "code",
   "execution_count": 41,
   "id": "29c1b477-3f22-4368-83c0-e44274e08264",
   "metadata": {},
   "outputs": [],
   "source": [
    "def impute_train_age(cols):\n",
    "    age = cols.iloc[0]\n",
    "    pclass = cols.iloc[1]\n",
    "    \n",
    "    if pd.isnull(age):\n",
    "        if pclass == 1:\n",
    "            return 37\n",
    "        elif pclass == 2:\n",
    "            return 29\n",
    "        else:\n",
    "            return 24\n",
    "    else:\n",
    "        return age\n",
    "df_copy['age'] = df_copy[['age','pclass']].apply(impute_train_age,axis=1)"
   ]
  },
  {
   "cell_type": "markdown",
   "id": "0a6707fa-d143-4bbc-80a8-474de34aefed",
   "metadata": {},
   "source": [
    "We can look at whether the imputations have been executed properly."
   ]
  },
  {
   "cell_type": "code",
   "execution_count": 42,
   "id": "112658ca-bf4e-429b-a1ec-6f2d58ab608b",
   "metadata": {},
   "outputs": [
    {
     "data": {
      "text/plain": [
       "survived    0\n",
       "pclass      0\n",
       "sex         0\n",
       "age         0\n",
       "sibsp       0\n",
       "parch       0\n",
       "embarked    2\n",
       "dtype: int64"
      ]
     },
     "execution_count": 42,
     "metadata": {},
     "output_type": "execute_result"
    }
   ],
   "source": [
    "df_copy.isnull().sum()"
   ]
  },
  {
   "cell_type": "markdown",
   "id": "c8ab366c-fbd4-48f8-9fe9-50baa58bb882",
   "metadata": {},
   "source": [
    "The data has been imputated properly since there are no more null values in the 'age' column."
   ]
  },
  {
   "cell_type": "code",
   "execution_count": 43,
   "id": "aec40e1e-7c39-4f26-aacf-1f27b283c27f",
   "metadata": {},
   "outputs": [
    {
     "data": {
      "image/png": "[encoded data removed]",
      "text/plain": [
       "<Figure size 640x480 with 1 Axes>"
      ]
     },
     "metadata": {},
     "output_type": "display_data"
    }
   ],
   "source": [
    "sns.histplot(df_copy['age'], bins=30, kde=True, color='red', edgecolor='purple')\n",
    "plt.xlabel('Age')\n",
    "plt.ylabel('Frequency')\n",
    "plt.title('Histogram for Age (Adjusted)')\n",
    "plt.show()"
   ]
  },
  {
   "cell_type": "markdown",
   "id": "813cdf20-ddb4-4cc0-8d71-dfe93150ba4d",
   "metadata": {},
   "source": [
    "After imputation, the 'age' distribution is still very similar with the previous one."
   ]
  },
  {
   "cell_type": "markdown",
   "id": "3349e1bf-4790-433d-b256-7deb169f1517",
   "metadata": {},
   "source": [
    "#### Missing - embarked\n",
    "\n",
    "Observe the proportion of missing records in the 'embarked' column."
   ]
  },
  {
   "cell_type": "code",
   "execution_count": 44,
   "id": "00e7543f-a205-4d95-8680-3a81dee80a2e",
   "metadata": {},
   "outputs": [
    {
     "data": {
      "text/html": [
       "<style type=\"text/css\">\n",
       "</style>\n",
       "<table id=\"T_09693\">\n",
       "  <thead>\n",
       "    <tr>\n",
       "      <th id=\"T_09693_level0_col0\" class=\"col_heading level0 col0\" >Statistic</th>\n",
       "      <th id=\"T_09693_level0_col1\" class=\"col_heading level0 col1\" >Value</th>\n",
       "    </tr>\n",
       "  </thead>\n",
       "  <tbody>\n",
       "    <tr>\n",
       "      <td id=\"T_09693_row0_col0\" class=\"data row0 col0\" >Portion with Missing 'embarked' Records</td>\n",
       "      <td id=\"T_09693_row0_col1\" class=\"data row0 col1\" >0.22%</td>\n",
       "    </tr>\n",
       "  </tbody>\n",
       "</table>\n"
      ],
      "text/plain": [
       "<pandas.io.formats.style.Styler at 0x23c2d37db10>"
      ]
     },
     "metadata": {},
     "output_type": "display_data"
    }
   ],
   "source": [
    "df3 = {\n",
    "  \"Statistic\": [\"Portion with Missing 'embarked' Records\"],\n",
    "  \"Value\": ['%.2f%%' %((df_copy['embarked'].isnull().sum()/df_copy.shape[0])*100)]\n",
    "}\n",
    "df3 = pd.DataFrame(df3)\n",
    "display(df3.style.hide(axis=\"index\"))"
   ]
  },
  {
   "cell_type": "markdown",
   "id": "9ec13e44-f2bd-4bc6-ba2c-6b757585c59b",
   "metadata": {},
   "source": [
    "Since it is only 0.22%, we can simply impute them with the highest-occurring entry in the list."
   ]
  },
  {
   "cell_type": "code",
   "execution_count": 45,
   "id": "b301af47-f296-428b-9a7c-d73c0b848f5a",
   "metadata": {},
   "outputs": [
    {
     "data": {
      "text/html": [
       "<style type=\"text/css\">\n",
       "</style>\n",
       "<table id=\"T_7bc89\">\n",
       "  <thead>\n",
       "    <tr>\n",
       "      <th id=\"T_7bc89_level0_col0\" class=\"col_heading level0 col0\" >Statistic</th>\n",
       "      <th id=\"T_7bc89_level0_col1\" class=\"col_heading level0 col1\" >Value</th>\n",
       "    </tr>\n",
       "  </thead>\n",
       "  <tbody>\n",
       "    <tr>\n",
       "      <td id=\"T_7bc89_row0_col0\" class=\"data row0 col0\" >'embarked' Mode</td>\n",
       "      <td id=\"T_7bc89_row0_col1\" class=\"data row0 col1\" >S</td>\n",
       "    </tr>\n",
       "  </tbody>\n",
       "</table>\n"
      ],
      "text/plain": [
       "<pandas.io.formats.style.Styler at 0x23c2d408950>"
      ]
     },
     "metadata": {},
     "output_type": "display_data"
    }
   ],
   "source": [
    "df4 = {\n",
    "  \"Statistic\": [\"'embarked' Mode\"],\n",
    "  \"Value\": [df_copy[\"embarked\"].mode()[0]]\n",
    "}\n",
    "df4 = pd.DataFrame(df4)\n",
    "display(df4.style.hide(axis=\"index\"))"
   ]
  },
  {
   "cell_type": "markdown",
   "id": "a125adc9-f342-41ab-9bbd-e59679cf3b74",
   "metadata": {},
   "source": [
    "In this case, the 'embarkment' value with the most frequency is 'S' or Southampton."
   ]
  },
  {
   "cell_type": "code",
   "execution_count": 46,
   "id": "902fa82a-6c8a-40f2-80f6-a0ad776ecf82",
   "metadata": {},
   "outputs": [],
   "source": [
    "df_copy[\"embarked\"].fillna(\"S\", inplace=True)"
   ]
  },
  {
   "cell_type": "markdown",
   "id": "b34c9735-819b-40e6-bfcb-981247b6cc56",
   "metadata": {},
   "source": [
    "Verify whether the imputation has taken place."
   ]
  },
  {
   "cell_type": "code",
   "execution_count": 47,
   "id": "8fd42700-2d30-4be6-a7f7-4b5bd8cc57bb",
   "metadata": {},
   "outputs": [
    {
     "data": {
      "text/plain": [
       "survived    0\n",
       "pclass      0\n",
       "sex         0\n",
       "age         0\n",
       "sibsp       0\n",
       "parch       0\n",
       "embarked    0\n",
       "dtype: int64"
      ]
     },
     "execution_count": 47,
     "metadata": {},
     "output_type": "execute_result"
    }
   ],
   "source": [
    "df_copy.isnull().sum()"
   ]
  },
  {
   "cell_type": "markdown",
   "id": "11eb4a87-0ded-4f6c-b6c6-8a98944a1513",
   "metadata": {},
   "source": [
    "Since there are no more empty 'embarked' entries, then the imputation has been executed properly."
   ]
  },
  {
   "cell_type": "code",
   "execution_count": 18,
   "id": "122240b9-f9f1-4e69-ad33-b0d2bdb3dc37",
   "metadata": {},
   "outputs": [
    {
     "data": {
      "image/png": "[encoded data removed]",
      "text/plain": [
       "<Figure size 640x480 with 1 Axes>"
      ]
     },
     "metadata": {},
     "output_type": "display_data"
    }
   ],
   "source": [
    "sns.countplot(x='embarked', data=df_copy, hue='embarked', palette='Set3')\n",
    "plt.title(\"Frequency Distribution for 'embarked'\")\n",
    "plt.show()"
   ]
  },
  {
   "cell_type": "markdown",
   "id": "97316359-58d5-4eb9-a13a-cdaa70247d83",
   "metadata": {},
   "source": [
    "Shown above is the frequency distribution for the 'embarked' variable. Almost all passengers boarded in Southampton, followed by Cherbourg, then lastly by Queenstown."
   ]
  },
  {
   "cell_type": "code",
   "execution_count": 48,
   "id": "8a27b553-a4f4-4def-9c02-4b2d23e2727c",
   "metadata": {},
   "outputs": [
    {
     "name": "stdout",
     "output_type": "stream",
     "text": [
      "<class 'pandas.core.frame.DataFrame'>\n",
      "RangeIndex: 891 entries, 0 to 890\n",
      "Data columns (total 7 columns):\n",
      " #   Column    Non-Null Count  Dtype  \n",
      "---  ------    --------------  -----  \n",
      " 0   survived  891 non-null    int64  \n",
      " 1   pclass    891 non-null    int64  \n",
      " 2   sex       891 non-null    object \n",
      " 3   age       891 non-null    float64\n",
      " 4   sibsp     891 non-null    int64  \n",
      " 5   parch     891 non-null    int64  \n",
      " 6   embarked  891 non-null    object \n",
      "dtypes: float64(1), int64(4), object(2)\n",
      "memory usage: 48.9+ KB\n"
     ]
    }
   ],
   "source": [
    "df_copy.info()"
   ]
  },
  {
   "cell_type": "markdown",
   "id": "15ae0d04-e91f-4c8a-a931-0e016934a433",
   "metadata": {},
   "source": [
    "After all the data manipulation, the number of entries has not been changed and hence, the processes were executed properly."
   ]
  },
  {
   "cell_type": "markdown",
   "id": "1d7cc0fa-9a19-4ac2-a9a3-7bc4c1e741ef",
   "metadata": {},
   "source": [
    "#### Addressing Categorical Variables: One-Hot Encoding\n",
    "\n",
    "Notice how 'age' and 'embarked' are of object data types which could be problematic for the regression model. Additionally, the 'pclass' could be split into different columns of binary entries to also aid in the model fitting process. Hence, we should one-hot encode these columns."
   ]
  },
  {
   "cell_type": "code",
   "execution_count": 49,
   "id": "f9ae76be-6c2f-4958-9708-fffa479a7cd5",
   "metadata": {},
   "outputs": [
    {
     "data": {
      "text/html": [
       "<div>\n",
       "<style scoped>\n",
       "    .dataframe tbody tr th:only-of-type {\n",
       "        vertical-align: middle;\n",
       "    }\n",
       "\n",
       "    .dataframe tbody tr th {\n",
       "        vertical-align: top;\n",
       "    }\n",
       "\n",
       "    .dataframe thead th {\n",
       "        text-align: right;\n",
       "    }\n",
       "</style>\n",
       "<table border=\"1\" class=\"dataframe\">\n",
       "  <thead>\n",
       "    <tr style=\"text-align: right;\">\n",
       "      <th></th>\n",
       "      <th>survived</th>\n",
       "      <th>age</th>\n",
       "      <th>sibsp</th>\n",
       "      <th>parch</th>\n",
       "      <th>sex_female</th>\n",
       "      <th>sex_male</th>\n",
       "      <th>pclass_1</th>\n",
       "      <th>pclass_2</th>\n",
       "      <th>pclass_3</th>\n",
       "      <th>embarked_C</th>\n",
       "      <th>embarked_Q</th>\n",
       "      <th>embarked_S</th>\n",
       "    </tr>\n",
       "  </thead>\n",
       "  <tbody>\n",
       "    <tr>\n",
       "      <th>0</th>\n",
       "      <td>0</td>\n",
       "      <td>22.0</td>\n",
       "      <td>1</td>\n",
       "      <td>0</td>\n",
       "      <td>0</td>\n",
       "      <td>1</td>\n",
       "      <td>0</td>\n",
       "      <td>0</td>\n",
       "      <td>1</td>\n",
       "      <td>0</td>\n",
       "      <td>0</td>\n",
       "      <td>1</td>\n",
       "    </tr>\n",
       "    <tr>\n",
       "      <th>1</th>\n",
       "      <td>1</td>\n",
       "      <td>38.0</td>\n",
       "      <td>1</td>\n",
       "      <td>0</td>\n",
       "      <td>1</td>\n",
       "      <td>0</td>\n",
       "      <td>1</td>\n",
       "      <td>0</td>\n",
       "      <td>0</td>\n",
       "      <td>1</td>\n",
       "      <td>0</td>\n",
       "      <td>0</td>\n",
       "    </tr>\n",
       "    <tr>\n",
       "      <th>2</th>\n",
       "      <td>1</td>\n",
       "      <td>26.0</td>\n",
       "      <td>0</td>\n",
       "      <td>0</td>\n",
       "      <td>1</td>\n",
       "      <td>0</td>\n",
       "      <td>0</td>\n",
       "      <td>0</td>\n",
       "      <td>1</td>\n",
       "      <td>0</td>\n",
       "      <td>0</td>\n",
       "      <td>1</td>\n",
       "    </tr>\n",
       "    <tr>\n",
       "      <th>3</th>\n",
       "      <td>1</td>\n",
       "      <td>35.0</td>\n",
       "      <td>1</td>\n",
       "      <td>0</td>\n",
       "      <td>1</td>\n",
       "      <td>0</td>\n",
       "      <td>1</td>\n",
       "      <td>0</td>\n",
       "      <td>0</td>\n",
       "      <td>0</td>\n",
       "      <td>0</td>\n",
       "      <td>1</td>\n",
       "    </tr>\n",
       "    <tr>\n",
       "      <th>4</th>\n",
       "      <td>0</td>\n",
       "      <td>35.0</td>\n",
       "      <td>0</td>\n",
       "      <td>0</td>\n",
       "      <td>0</td>\n",
       "      <td>1</td>\n",
       "      <td>0</td>\n",
       "      <td>0</td>\n",
       "      <td>1</td>\n",
       "      <td>0</td>\n",
       "      <td>0</td>\n",
       "      <td>1</td>\n",
       "    </tr>\n",
       "  </tbody>\n",
       "</table>\n",
       "</div>"
      ],
      "text/plain": [
       "   survived   age  sibsp  parch  sex_female  sex_male  pclass_1  pclass_2  \\\n",
       "0         0  22.0      1      0           0         1         0         0   \n",
       "1         1  38.0      1      0           1         0         1         0   \n",
       "2         1  26.0      0      0           1         0         0         0   \n",
       "3         1  35.0      1      0           1         0         1         0   \n",
       "4         0  35.0      0      0           0         1         0         0   \n",
       "\n",
       "   pclass_3  embarked_C  embarked_Q  embarked_S  \n",
       "0         1           0           0           1  \n",
       "1         0           1           0           0  \n",
       "2         1           0           0           1  \n",
       "3         0           0           0           1  \n",
       "4         1           0           0           1  "
      ]
     },
     "execution_count": 49,
     "metadata": {},
     "output_type": "execute_result"
    }
   ],
   "source": [
    "df_copy = pd.get_dummies(df_copy, columns=['sex', 'pclass', 'embarked'], dtype=int)\n",
    "df_copy.head()"
   ]
  },
  {
   "cell_type": "markdown",
   "id": "718d1de9-15e0-4967-bbb9-e17dfb73a34a",
   "metadata": {},
   "source": [
    "#### 80-20 Train-Test Split\n",
    "\n",
    "As the final preparation for model fitting, the dataset must be split by a proportion of 80-20 corresponding to train-test sets."
   ]
  },
  {
   "cell_type": "code",
   "execution_count": 50,
   "id": "10ce426c-f3b4-4b6d-87a3-15a7e1e89af7",
   "metadata": {},
   "outputs": [],
   "source": [
    "from sklearn.model_selection import train_test_split\n",
    "\n",
    "x = df_copy.drop('survived', axis=1)\n",
    "y = df_copy['survived']\n",
    "\n",
    "x_train, x_test, y_train, y_test = train_test_split(x, y, test_size=0.2, stratify=y, random_state=0)"
   ]
  },
  {
   "cell_type": "markdown",
   "id": "5b47e493-a149-4304-b3e1-21464d066cc2",
   "metadata": {},
   "source": [
    "# III. Model Implementation Details"
   ]
  },
  {
   "cell_type": "markdown",
   "id": "44738f7c-a0ae-4c50-ac01-2e3330c540d8",
   "metadata": {},
   "source": [
    "We will now train a logistic regression model on the training set."
   ]
  },
  {
   "cell_type": "code",
   "execution_count": 51,
   "id": "c9edf376-daf4-4a05-9fa1-68e843cddfc3",
   "metadata": {},
   "outputs": [
    {
     "data": {
      "text/html": [
       "<style>#sk-container-id-2 {\n",
       "  /* Definition of color scheme common for light and dark mode */\n",
       "  --sklearn-color-text: black;\n",
       "  --sklearn-color-line: gray;\n",
       "  /* Definition of color scheme for unfitted estimators */\n",
       "  --sklearn-color-unfitted-level-0: #fff5e6;\n",
       "  --sklearn-color-unfitted-level-1: #f6e4d2;\n",
       "  --sklearn-color-unfitted-level-2: #ffe0b3;\n",
       "  --sklearn-color-unfitted-level-3: chocolate;\n",
       "  /* Definition of color scheme for fitted estimators */\n",
       "  --sklearn-color-fitted-level-0: #f0f8ff;\n",
       "  --sklearn-color-fitted-level-1: #d4ebff;\n",
       "  --sklearn-color-fitted-level-2: #b3dbfd;\n",
       "  --sklearn-color-fitted-level-3: cornflowerblue;\n",
       "\n",
       "  /* Specific color for light theme */\n",
       "  --sklearn-color-text-on-default-background: var(--sg-text-color, var(--theme-code-foreground, var(--jp-content-font-color1, black)));\n",
       "  --sklearn-color-background: var(--sg-background-color, var(--theme-background, var(--jp-layout-color0, white)));\n",
       "  --sklearn-color-border-box: var(--sg-text-color, var(--theme-code-foreground, var(--jp-content-font-color1, black)));\n",
       "  --sklearn-color-icon: #696969;\n",
       "\n",
       "  @media (prefers-color-scheme: dark) {\n",
       "    /* Redefinition of color scheme for dark theme */\n",
       "    --sklearn-color-text-on-default-background: var(--sg-text-color, var(--theme-code-foreground, var(--jp-content-font-color1, white)));\n",
       "    --sklearn-color-background: var(--sg-background-color, var(--theme-background, var(--jp-layout-color0, #111)));\n",
       "    --sklearn-color-border-box: var(--sg-text-color, var(--theme-code-foreground, var(--jp-content-font-color1, white)));\n",
       "    --sklearn-color-icon: #878787;\n",
       "  }\n",
       "}\n",
       "\n",
       "#sk-container-id-2 {\n",
       "  color: var(--sklearn-color-text);\n",
       "}\n",
       "\n",
       "#sk-container-id-2 pre {\n",
       "  padding: 0;\n",
       "}\n",
       "\n",
       "#sk-container-id-2 input.sk-hidden--visually {\n",
       "  border: 0;\n",
       "  clip: rect(1px 1px 1px 1px);\n",
       "  clip: rect(1px, 1px, 1px, 1px);\n",
       "  height: 1px;\n",
       "  margin: -1px;\n",
       "  overflow: hidden;\n",
       "  padding: 0;\n",
       "  position: absolute;\n",
       "  width: 1px;\n",
       "}\n",
       "\n",
       "#sk-container-id-2 div.sk-dashed-wrapped {\n",
       "  border: 1px dashed var(--sklearn-color-line);\n",
       "  margin: 0 0.4em 0.5em 0.4em;\n",
       "  box-sizing: border-box;\n",
       "  padding-bottom: 0.4em;\n",
       "  background-color: var(--sklearn-color-background);\n",
       "}\n",
       "\n",
       "#sk-container-id-2 div.sk-container {\n",
       "  /* jupyter's `normalize.less` sets `[hidden] { display: none; }`\n",
       "     but bootstrap.min.css set `[hidden] { display: none !important; }`\n",
       "     so we also need the `!important` here to be able to override the\n",
       "     default hidden behavior on the sphinx rendered scikit-learn.org.\n",
       "     See: https://github.com/scikit-learn/scikit-learn/issues/21755 */\n",
       "  display: inline-block !important;\n",
       "  position: relative;\n",
       "}\n",
       "\n",
       "#sk-container-id-2 div.sk-text-repr-fallback {\n",
       "  display: none;\n",
       "}\n",
       "\n",
       "div.sk-parallel-item,\n",
       "div.sk-serial,\n",
       "div.sk-item {\n",
       "  /* draw centered vertical line to link estimators */\n",
       "  background-image: linear-gradient(var(--sklearn-color-text-on-default-background), var(--sklearn-color-text-on-default-background));\n",
       "  background-size: 2px 100%;\n",
       "  background-repeat: no-repeat;\n",
       "  background-position: center center;\n",
       "}\n",
       "\n",
       "/* Parallel-specific style estimator block */\n",
       "\n",
       "#sk-container-id-2 div.sk-parallel-item::after {\n",
       "  content: \"\";\n",
       "  width: 100%;\n",
       "  border-bottom: 2px solid var(--sklearn-color-text-on-default-background);\n",
       "  flex-grow: 1;\n",
       "}\n",
       "\n",
       "#sk-container-id-2 div.sk-parallel {\n",
       "  display: flex;\n",
       "  align-items: stretch;\n",
       "  justify-content: center;\n",
       "  background-color: var(--sklearn-color-background);\n",
       "  position: relative;\n",
       "}\n",
       "\n",
       "#sk-container-id-2 div.sk-parallel-item {\n",
       "  display: flex;\n",
       "  flex-direction: column;\n",
       "}\n",
       "\n",
       "#sk-container-id-2 div.sk-parallel-item:first-child::after {\n",
       "  align-self: flex-end;\n",
       "  width: 50%;\n",
       "}\n",
       "\n",
       "#sk-container-id-2 div.sk-parallel-item:last-child::after {\n",
       "  align-self: flex-start;\n",
       "  width: 50%;\n",
       "}\n",
       "\n",
       "#sk-container-id-2 div.sk-parallel-item:only-child::after {\n",
       "  width: 0;\n",
       "}\n",
       "\n",
       "/* Serial-specific style estimator block */\n",
       "\n",
       "#sk-container-id-2 div.sk-serial {\n",
       "  display: flex;\n",
       "  flex-direction: column;\n",
       "  align-items: center;\n",
       "  background-color: var(--sklearn-color-background);\n",
       "  padding-right: 1em;\n",
       "  padding-left: 1em;\n",
       "}\n",
       "\n",
       "\n",
       "/* Toggleable style: style used for estimator/Pipeline/ColumnTransformer box that is\n",
       "clickable and can be expanded/collapsed.\n",
       "- Pipeline and ColumnTransformer use this feature and define the default style\n",
       "- Estimators will overwrite some part of the style using the `sk-estimator` class\n",
       "*/\n",
       "\n",
       "/* Pipeline and ColumnTransformer style (default) */\n",
       "\n",
       "#sk-container-id-2 div.sk-toggleable {\n",
       "  /* Default theme specific background. It is overwritten whether we have a\n",
       "  specific estimator or a Pipeline/ColumnTransformer */\n",
       "  background-color: var(--sklearn-color-background);\n",
       "}\n",
       "\n",
       "/* Toggleable label */\n",
       "#sk-container-id-2 label.sk-toggleable__label {\n",
       "  cursor: pointer;\n",
       "  display: block;\n",
       "  width: 100%;\n",
       "  margin-bottom: 0;\n",
       "  padding: 0.5em;\n",
       "  box-sizing: border-box;\n",
       "  text-align: center;\n",
       "}\n",
       "\n",
       "#sk-container-id-2 label.sk-toggleable__label-arrow:before {\n",
       "  /* Arrow on the left of the label */\n",
       "  content: \"▸\";\n",
       "  float: left;\n",
       "  margin-right: 0.25em;\n",
       "  color: var(--sklearn-color-icon);\n",
       "}\n",
       "\n",
       "#sk-container-id-2 label.sk-toggleable__label-arrow:hover:before {\n",
       "  color: var(--sklearn-color-text);\n",
       "}\n",
       "\n",
       "/* Toggleable content - dropdown */\n",
       "\n",
       "#sk-container-id-2 div.sk-toggleable__content {\n",
       "  max-height: 0;\n",
       "  max-width: 0;\n",
       "  overflow: hidden;\n",
       "  text-align: left;\n",
       "  /* unfitted */\n",
       "  background-color: var(--sklearn-color-unfitted-level-0);\n",
       "}\n",
       "\n",
       "#sk-container-id-2 div.sk-toggleable__content.fitted {\n",
       "  /* fitted */\n",
       "  background-color: var(--sklearn-color-fitted-level-0);\n",
       "}\n",
       "\n",
       "#sk-container-id-2 div.sk-toggleable__content pre {\n",
       "  margin: 0.2em;\n",
       "  border-radius: 0.25em;\n",
       "  color: var(--sklearn-color-text);\n",
       "  /* unfitted */\n",
       "  background-color: var(--sklearn-color-unfitted-level-0);\n",
       "}\n",
       "\n",
       "#sk-container-id-2 div.sk-toggleable__content.fitted pre {\n",
       "  /* unfitted */\n",
       "  background-color: var(--sklearn-color-fitted-level-0);\n",
       "}\n",
       "\n",
       "#sk-container-id-2 input.sk-toggleable__control:checked~div.sk-toggleable__content {\n",
       "  /* Expand drop-down */\n",
       "  max-height: 200px;\n",
       "  max-width: 100%;\n",
       "  overflow: auto;\n",
       "}\n",
       "\n",
       "#sk-container-id-2 input.sk-toggleable__control:checked~label.sk-toggleable__label-arrow:before {\n",
       "  content: \"▾\";\n",
       "}\n",
       "\n",
       "/* Pipeline/ColumnTransformer-specific style */\n",
       "\n",
       "#sk-container-id-2 div.sk-label input.sk-toggleable__control:checked~label.sk-toggleable__label {\n",
       "  color: var(--sklearn-color-text);\n",
       "  background-color: var(--sklearn-color-unfitted-level-2);\n",
       "}\n",
       "\n",
       "#sk-container-id-2 div.sk-label.fitted input.sk-toggleable__control:checked~label.sk-toggleable__label {\n",
       "  background-color: var(--sklearn-color-fitted-level-2);\n",
       "}\n",
       "\n",
       "/* Estimator-specific style */\n",
       "\n",
       "/* Colorize estimator box */\n",
       "#sk-container-id-2 div.sk-estimator input.sk-toggleable__control:checked~label.sk-toggleable__label {\n",
       "  /* unfitted */\n",
       "  background-color: var(--sklearn-color-unfitted-level-2);\n",
       "}\n",
       "\n",
       "#sk-container-id-2 div.sk-estimator.fitted input.sk-toggleable__control:checked~label.sk-toggleable__label {\n",
       "  /* fitted */\n",
       "  background-color: var(--sklearn-color-fitted-level-2);\n",
       "}\n",
       "\n",
       "#sk-container-id-2 div.sk-label label.sk-toggleable__label,\n",
       "#sk-container-id-2 div.sk-label label {\n",
       "  /* The background is the default theme color */\n",
       "  color: var(--sklearn-color-text-on-default-background);\n",
       "}\n",
       "\n",
       "/* On hover, darken the color of the background */\n",
       "#sk-container-id-2 div.sk-label:hover label.sk-toggleable__label {\n",
       "  color: var(--sklearn-color-text);\n",
       "  background-color: var(--sklearn-color-unfitted-level-2);\n",
       "}\n",
       "\n",
       "/* Label box, darken color on hover, fitted */\n",
       "#sk-container-id-2 div.sk-label.fitted:hover label.sk-toggleable__label.fitted {\n",
       "  color: var(--sklearn-color-text);\n",
       "  background-color: var(--sklearn-color-fitted-level-2);\n",
       "}\n",
       "\n",
       "/* Estimator label */\n",
       "\n",
       "#sk-container-id-2 div.sk-label label {\n",
       "  font-family: monospace;\n",
       "  font-weight: bold;\n",
       "  display: inline-block;\n",
       "  line-height: 1.2em;\n",
       "}\n",
       "\n",
       "#sk-container-id-2 div.sk-label-container {\n",
       "  text-align: center;\n",
       "}\n",
       "\n",
       "/* Estimator-specific */\n",
       "#sk-container-id-2 div.sk-estimator {\n",
       "  font-family: monospace;\n",
       "  border: 1px dotted var(--sklearn-color-border-box);\n",
       "  border-radius: 0.25em;\n",
       "  box-sizing: border-box;\n",
       "  margin-bottom: 0.5em;\n",
       "  /* unfitted */\n",
       "  background-color: var(--sklearn-color-unfitted-level-0);\n",
       "}\n",
       "\n",
       "#sk-container-id-2 div.sk-estimator.fitted {\n",
       "  /* fitted */\n",
       "  background-color: var(--sklearn-color-fitted-level-0);\n",
       "}\n",
       "\n",
       "/* on hover */\n",
       "#sk-container-id-2 div.sk-estimator:hover {\n",
       "  /* unfitted */\n",
       "  background-color: var(--sklearn-color-unfitted-level-2);\n",
       "}\n",
       "\n",
       "#sk-container-id-2 div.sk-estimator.fitted:hover {\n",
       "  /* fitted */\n",
       "  background-color: var(--sklearn-color-fitted-level-2);\n",
       "}\n",
       "\n",
       "/* Specification for estimator info (e.g. \"i\" and \"?\") */\n",
       "\n",
       "/* Common style for \"i\" and \"?\" */\n",
       "\n",
       ".sk-estimator-doc-link,\n",
       "a:link.sk-estimator-doc-link,\n",
       "a:visited.sk-estimator-doc-link {\n",
       "  float: right;\n",
       "  font-size: smaller;\n",
       "  line-height: 1em;\n",
       "  font-family: monospace;\n",
       "  background-color: var(--sklearn-color-background);\n",
       "  border-radius: 1em;\n",
       "  height: 1em;\n",
       "  width: 1em;\n",
       "  text-decoration: none !important;\n",
       "  margin-left: 1ex;\n",
       "  /* unfitted */\n",
       "  border: var(--sklearn-color-unfitted-level-1) 1pt solid;\n",
       "  color: var(--sklearn-color-unfitted-level-1);\n",
       "}\n",
       "\n",
       ".sk-estimator-doc-link.fitted,\n",
       "a:link.sk-estimator-doc-link.fitted,\n",
       "a:visited.sk-estimator-doc-link.fitted {\n",
       "  /* fitted */\n",
       "  border: var(--sklearn-color-fitted-level-1) 1pt solid;\n",
       "  color: var(--sklearn-color-fitted-level-1);\n",
       "}\n",
       "\n",
       "/* On hover */\n",
       "div.sk-estimator:hover .sk-estimator-doc-link:hover,\n",
       ".sk-estimator-doc-link:hover,\n",
       "div.sk-label-container:hover .sk-estimator-doc-link:hover,\n",
       ".sk-estimator-doc-link:hover {\n",
       "  /* unfitted */\n",
       "  background-color: var(--sklearn-color-unfitted-level-3);\n",
       "  color: var(--sklearn-color-background);\n",
       "  text-decoration: none;\n",
       "}\n",
       "\n",
       "div.sk-estimator.fitted:hover .sk-estimator-doc-link.fitted:hover,\n",
       ".sk-estimator-doc-link.fitted:hover,\n",
       "div.sk-label-container:hover .sk-estimator-doc-link.fitted:hover,\n",
       ".sk-estimator-doc-link.fitted:hover {\n",
       "  /* fitted */\n",
       "  background-color: var(--sklearn-color-fitted-level-3);\n",
       "  color: var(--sklearn-color-background);\n",
       "  text-decoration: none;\n",
       "}\n",
       "\n",
       "/* Span, style for the box shown on hovering the info icon */\n",
       ".sk-estimator-doc-link span {\n",
       "  display: none;\n",
       "  z-index: 9999;\n",
       "  position: relative;\n",
       "  font-weight: normal;\n",
       "  right: .2ex;\n",
       "  padding: .5ex;\n",
       "  margin: .5ex;\n",
       "  width: min-content;\n",
       "  min-width: 20ex;\n",
       "  max-width: 50ex;\n",
       "  color: var(--sklearn-color-text);\n",
       "  box-shadow: 2pt 2pt 4pt #999;\n",
       "  /* unfitted */\n",
       "  background: var(--sklearn-color-unfitted-level-0);\n",
       "  border: .5pt solid var(--sklearn-color-unfitted-level-3);\n",
       "}\n",
       "\n",
       ".sk-estimator-doc-link.fitted span {\n",
       "  /* fitted */\n",
       "  background: var(--sklearn-color-fitted-level-0);\n",
       "  border: var(--sklearn-color-fitted-level-3);\n",
       "}\n",
       "\n",
       ".sk-estimator-doc-link:hover span {\n",
       "  display: block;\n",
       "}\n",
       "\n",
       "/* \"?\"-specific style due to the `<a>` HTML tag */\n",
       "\n",
       "#sk-container-id-2 a.estimator_doc_link {\n",
       "  float: right;\n",
       "  font-size: 1rem;\n",
       "  line-height: 1em;\n",
       "  font-family: monospace;\n",
       "  background-color: var(--sklearn-color-background);\n",
       "  border-radius: 1rem;\n",
       "  height: 1rem;\n",
       "  width: 1rem;\n",
       "  text-decoration: none;\n",
       "  /* unfitted */\n",
       "  color: var(--sklearn-color-unfitted-level-1);\n",
       "  border: var(--sklearn-color-unfitted-level-1) 1pt solid;\n",
       "}\n",
       "\n",
       "#sk-container-id-2 a.estimator_doc_link.fitted {\n",
       "  /* fitted */\n",
       "  border: var(--sklearn-color-fitted-level-1) 1pt solid;\n",
       "  color: var(--sklearn-color-fitted-level-1);\n",
       "}\n",
       "\n",
       "/* On hover */\n",
       "#sk-container-id-2 a.estimator_doc_link:hover {\n",
       "  /* unfitted */\n",
       "  background-color: var(--sklearn-color-unfitted-level-3);\n",
       "  color: var(--sklearn-color-background);\n",
       "  text-decoration: none;\n",
       "}\n",
       "\n",
       "#sk-container-id-2 a.estimator_doc_link.fitted:hover {\n",
       "  /* fitted */\n",
       "  background-color: var(--sklearn-color-fitted-level-3);\n",
       "}\n",
       "</style><div id=\"sk-container-id-2\" class=\"sk-top-container\"><div class=\"sk-text-repr-fallback\"><pre>LogisticRegression(max_iter=200, random_state=0)</pre><b>In a Jupyter environment, please rerun this cell to show the HTML representation or trust the notebook. <br />On GitHub, the HTML representation is unable to render, please try loading this page with nbviewer.org.</b></div><div class=\"sk-container\" hidden><div class=\"sk-item\"><div class=\"sk-estimator fitted sk-toggleable\"><input class=\"sk-toggleable__control sk-hidden--visually\" id=\"sk-estimator-id-2\" type=\"checkbox\" checked><label for=\"sk-estimator-id-2\" class=\"sk-toggleable__label fitted sk-toggleable__label-arrow fitted\">&nbsp;&nbsp;LogisticRegression<a class=\"sk-estimator-doc-link fitted\" rel=\"noreferrer\" target=\"_blank\" href=\"https://scikit-learn.org/1.5/modules/generated/sklearn.linear_model.LogisticRegression.html\">?<span>Documentation for LogisticRegression</span></a><span class=\"sk-estimator-doc-link fitted\">i<span>Fitted</span></span></label><div class=\"sk-toggleable__content fitted\"><pre>LogisticRegression(max_iter=200, random_state=0)</pre></div> </div></div></div></div>"
      ],
      "text/plain": [
       "LogisticRegression(max_iter=200, random_state=0)"
      ]
     },
     "execution_count": 51,
     "metadata": {},
     "output_type": "execute_result"
    }
   ],
   "source": [
    "from sklearn.linear_model import LogisticRegression\n",
    "\n",
    "model = LogisticRegression(random_state=0, max_iter=200)\n",
    "model.fit(x_train, y_train)"
   ]
  },
  {
   "cell_type": "markdown",
   "id": "81c4d0db-2583-4775-9641-0b5e63e0d110",
   "metadata": {},
   "source": [
    "#### Predict whether a 31-year old male passenger traveling in third class, with no family on board, and embarked on Queenstown will survive the Titanic disaster."
   ]
  },
  {
   "cell_type": "code",
   "execution_count": 52,
   "id": "b3515151-06eb-473e-84b6-0016a17b3c3b",
   "metadata": {},
   "outputs": [
    {
     "name": "stdout",
     "output_type": "stream",
     "text": [
      "The passenger will not survive the Titanic disaster.\n"
     ]
    }
   ],
   "source": [
    "test1 = pd.DataFrame(np.array([31,0,0,0,1,0,0,1,0,1,0]).reshape(1,-1),\n",
    "                     columns=['age','sibsp','parch','sex_female','sex_male','pclass_1','pclass_2','pclass_3','embarked_C','embarked_Q','embarked_S'])\n",
    "\n",
    "def survival(model,test):\n",
    "    x = model.predict(test)[0]\n",
    "    if x == 1:\n",
    "        print(\"The passenger will survive the Titanic disaster.\")\n",
    "    else:\n",
    "        print(\"The passenger will not survive the Titanic disaster.\")\n",
    "\n",
    "survival(model,test1)"
   ]
  },
  {
   "cell_type": "markdown",
   "id": "004b8d8e-df88-49ea-ac9b-fdf90be66b6a",
   "metadata": {},
   "source": [
    "#### Predict whether a 46-year old female passenger traveling in first class, with 1 sibling & 2 children on board, and embarked on Southampton will survive the Titanic disaster."
   ]
  },
  {
   "cell_type": "code",
   "execution_count": 53,
   "id": "e77407cf-ae61-43da-a6a7-f050583126cd",
   "metadata": {},
   "outputs": [
    {
     "name": "stdout",
     "output_type": "stream",
     "text": [
      "The passenger will survive the Titanic disaster.\n"
     ]
    }
   ],
   "source": [
    "test2 = pd.DataFrame(np.array([46,1,2,1,0,1,0,0,0,0,1]).reshape(1,-1),\n",
    "                     columns=['age','sibsp','parch','sex_female','sex_male','pclass_1','pclass_2','pclass_3','embarked_C','embarked_Q','embarked_S'])\n",
    "survival(model,test2)"
   ]
  },
  {
   "cell_type": "markdown",
   "id": "d7d36823-9a6e-4067-ba50-fcf1bc703867",
   "metadata": {},
   "source": [
    "# IV. Evaluation Results & Visualizations\n",
    "\n",
    "In this section, the logistic regression model will be evaluated based on several performance metrics which will all be supplied with visualizations."
   ]
  },
  {
   "cell_type": "markdown",
   "id": "d2204146-8713-4f59-a58c-31a9cde75217",
   "metadata": {},
   "source": [
    "#### Accuracy"
   ]
  },
  {
   "cell_type": "code",
   "execution_count": 54,
   "id": "50f3eea8-291c-4f3f-93c0-00dd6fc88e81",
   "metadata": {},
   "outputs": [
    {
     "data": {
      "text/plain": [
       "0.7932960893854749"
      ]
     },
     "execution_count": 54,
     "metadata": {},
     "output_type": "execute_result"
    }
   ],
   "source": [
    "model.score(x_test, y_test)"
   ]
  },
  {
   "cell_type": "markdown",
   "id": "275828da-02cc-49f2-8bf8-e20a2cfee31c",
   "metadata": {},
   "source": [
    "The accuracy score for the model is **79.33%**."
   ]
  },
  {
   "cell_type": "markdown",
   "id": "ec0c9e7b-6357-4913-a646-052c14343959",
   "metadata": {},
   "source": [
    "#### Precision, Recall, F1-score"
   ]
  },
  {
   "cell_type": "code",
   "execution_count": 55,
   "id": "716c4180-52ba-43f9-bc4c-a975977b7ed0",
   "metadata": {},
   "outputs": [
    {
     "name": "stdout",
     "output_type": "stream",
     "text": [
      "              precision    recall  f1-score   support\n",
      "\n",
      "           0       0.81      0.87      0.84       110\n",
      "           1       0.77      0.67      0.71        69\n",
      "\n",
      "    accuracy                           0.79       179\n",
      "   macro avg       0.79      0.77      0.78       179\n",
      "weighted avg       0.79      0.79      0.79       179\n",
      "\n"
     ]
    }
   ],
   "source": [
    "from sklearn.metrics import classification_report\n",
    "\n",
    "y_predicted = model.predict(x_test)\n",
    "print(classification_report(y_test, y_predicted))"
   ]
  },
  {
   "cell_type": "markdown",
   "id": "549ca87d-ebce-4075-82e4-4240b3ebe222",
   "metadata": {},
   "source": [
    "The given table shows the precision, recall, and f1-score metrics of the model. Since recall is low in the alive prediction, expect a high turnout of false negatives in the confusion matrix."
   ]
  },
  {
   "cell_type": "markdown",
   "id": "451550a3-5392-4cce-b140-91677e1e9a27",
   "metadata": {},
   "source": [
    "#### Confusion Matrix Heatmap"
   ]
  },
  {
   "cell_type": "code",
   "execution_count": 56,
   "id": "7b097bf1-3392-4cef-9566-fe8195e70ceb",
   "metadata": {},
   "outputs": [
    {
     "data": {
      "image/png": "[encoded data removed]",
      "text/plain": [
       "<Figure size 640x480 with 2 Axes>"
      ]
     },
     "metadata": {},
     "output_type": "display_data"
    }
   ],
   "source": [
    "from sklearn import metrics\n",
    "\n",
    "confusion_matrix = metrics.confusion_matrix(y_test, y_predicted)\n",
    "cm_display = metrics.ConfusionMatrixDisplay(confusion_matrix)\n",
    "cm_display.plot()\n",
    "plt.show()"
   ]
  },
  {
   "cell_type": "markdown",
   "id": "193cc0e3-5936-4c92-a289-f0f7c88de70f",
   "metadata": {},
   "source": [
    "This confusion matrix verifies our previous assumption that there are many false negatives in the model prediction, being a value of 23 in this case."
   ]
  },
  {
   "cell_type": "markdown",
   "id": "0fa1acd1-7385-407c-ab42-669b8305ff6d",
   "metadata": {},
   "source": [
    "#### ROC Curve and AUC Score"
   ]
  },
  {
   "cell_type": "code",
   "execution_count": 57,
   "id": "f0af4eeb-524d-453a-acdf-7b360619d5c2",
   "metadata": {},
   "outputs": [
    {
     "data": {
      "text/plain": [
       "<sklearn.metrics._plot.roc_curve.RocCurveDisplay at 0x23c2689e790>"
      ]
     },
     "execution_count": 57,
     "metadata": {},
     "output_type": "execute_result"
    },
    {
     "data": {
      "image/png": "[encoded data removed]",
      "text/plain": [
       "<Figure size 640x480 with 1 Axes>"
      ]
     },
     "metadata": {},
     "output_type": "display_data"
    }
   ],
   "source": [
    "metrics.RocCurveDisplay.from_estimator(model, x_test, y_test)"
   ]
  },
  {
   "cell_type": "markdown",
   "id": "7022bbed-c499-4e42-bc05-28f075b0faa8",
   "metadata": {},
   "source": [
    "Based on the ROC Curve, the AUC score of the model is **0.84**. This means that while not excellent, it is good enough to be a general predictor for survival."
   ]
  },
  {
   "cell_type": "markdown",
   "id": "fec1bc6e-4df2-4892-9ddd-f33b279a0dde",
   "metadata": {},
   "source": [
    "# V. Conclusion & Future Improvements"
   ]
  },
  {
   "cell_type": "markdown",
   "id": "adadf15f-dde5-4f3b-99ca-4e19608afd7a",
   "metadata": {},
   "source": [
    "Logistic regression was conducted to predict the survival of a passenger during the Titanic disaster using their age, sex, passenger class, number of relatives onboard, and embarkment dock. The model had an accuracy of about 79.33%, denoting a mildly strong performance. With its moderately good precision for both survival predictions, the model had a relatively low number of false positives. Furthermore, the recall score for death predictions is quite high. However, it seems to struggle with predicting survivors, having a low recall score and implying several false negatives. This is then backed up by the confusion matrix and f1-scores, for which the value in predicting death is noticeably higher than survival. Moreover, the model garnered an AUC (area under the curve) score of 0.84. In general, the model is good but struggles to predict survivors correctly in several occasions.\n",
    "\n",
    "The model's difficulty in correctly predicting survivors suggests an imbalance in the dataset, likely due to much fewer survivors relative to deceased passengers, which skews the classification. In a real-world context, such imbalances are common in medical diagnoses or fraud detection, where correctly identifying the minority class is critical. Addressing this issue can involve techniques such as resampling to balance classes or incorporating additional predictive features which might further refine survival probabilities. Additionally, hyperparameter tuning and regularization could enhance the model's ability to generalize effectively, while feature engineering such as creating interactions between variables might uncover deeper survival trends. These improvements could help the model better capture the characteristics of survivors and reduce false negatives. As such, feature selection play a crucial part in model-fitting both in theory and in reality. In this case, the inclusion of passenger class reveals that upper-class passengers had a higher survival rate than those of a lower class. This point exacerbates the notion that people who are higher up the socioeconomic ladder could afford way more privileges in life, even down to the most dire of situations such as the Titanic disaster. Choosing which features to include allows researchers to open up new avenues for discussion and make productive discourse for many issues which affect people in their everyday lives, extending to problems of even poverty and the like."
   ]
  },
  {
   "cell_type": "code",
   "execution_count": null,
   "id": "8576334e-e0a1-41b0-ab7e-fc717a54e50a",
   "metadata": {},
   "outputs": [],
   "source": []
  }
 ],
 "metadata": {
  "kernelspec": {
   "display_name": "Python 3 (ipykernel)",
   "language": "python",
   "name": "python3"
  },
  "language_info": {
   "codemirror_mode": {
    "name": "ipython",
    "version": 3
   },
   "file_extension": ".py",
   "mimetype": "text/x-python",
   "name": "python",
   "nbconvert_exporter": "python",
   "pygments_lexer": "ipython3",
   "version": "3.11.7"
  }
 },
 "nbformat": 4,
 "nbformat_minor": 5
}
